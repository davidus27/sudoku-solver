{
 "cells": [
  {
   "cell_type": "code",
   "execution_count": null,
   "metadata": {},
   "outputs": [],
   "source": [
    "import math\n",
    "import operator\n",
    "import cv2 as cv\n",
    "import numpy as np\n",
    "from matplotlib import pyplot as plt\n",
    "from tensorflow.keras import utils\n",
    "from tensorflow.keras.datasets import mnist\n",
    "from tensorflow.keras.models import Sequential\n",
    "from tensorflow.keras.callbacks import ModelCheckpoint\n",
    "from tensorflow.keras.backend import image_data_format\n",
    "from tensorflow.keras.layers import Dense, Dropout, Flatten, Conv2D, MaxPooling2D"
   ]
  },
  {
   "cell_type": "code",
   "execution_count": null,
   "metadata": {},
   "outputs": [],
   "source": [
    "relative_path = \"./imgs/examples/\"\n",
    "filenames = [\n",
    "    \"1.jpg\",\n",
    "    \"2.jpeg\",\n",
    "    \"3.jpeg\",\n",
    "    \"4.png\",\n",
    "    \"5.png\",\n",
    "    \"6.jpeg\",\n",
    "    \"7.jpg\"\n",
    "]\n",
    "def get_image(index):\n",
    "    return f\"{relative_path}{filenames[index]}\"\n"
   ]
  },
  {
   "cell_type": "code",
   "execution_count": null,
   "metadata": {},
   "outputs": [],
   "source": [
    "image = cv.imread(get_image(6))\n",
    "gray = cv.cvtColor(image, cv.COLOR_BGR2GRAY)\n",
    "\n",
    "plt.imshow(gray)"
   ]
  },
  {
   "cell_type": "code",
   "execution_count": null,
   "metadata": {
    "tags": []
   },
   "outputs": [],
   "source": [
    "\n",
    "blurred = cv.GaussianBlur(gray.copy(), (7,7), 0)\n",
    "processed_image = cv.adaptiveThreshold(blurred, 255, cv.ADAPTIVE_THRESH_GAUSSIAN_C, cv.THRESH_BINARY_INV, 11, 2)\n",
    "countours, _ = cv.findContours(processed_image, cv.RETR_TREE, cv.CHAIN_APPROX_NONE)\n",
    "sudoku_grid = sorted(countours, key=cv.contourArea, reverse=True)[0]\n",
    "\n",
    "plt.imshow(cv.drawContours(image.copy(), sudoku_grid, -1, (255,255,255), 3))\n",
    "plt.figure()\n",
    "\n",
    "epsilon = 0.1 * cv.arcLength(sudoku_grid,True)\n",
    "grid_edges = cv.approxPolyDP(sudoku_grid, epsilon,True)\n",
    "continuous_curve = cv.drawContours(image, [grid_edges], -1, (255,255,255), 3)\n",
    "\n",
    "plt.imshow(continuous_curve)\n"
   ]
  },
  {
   "cell_type": "code",
   "execution_count": null,
   "metadata": {},
   "outputs": [],
   "source": [
    "longest_side = max(\n",
    "    [\n",
    "        cv.norm(grid_edges[0][0], grid_edges[1][0]), # top left vs top right\n",
    "        cv.norm(grid_edges[1][0], grid_edges[2][0]), # top right vs bottom right\n",
    "        cv.norm(grid_edges[2][0], grid_edges[3][0]), # bottom right vs bottom left\n",
    "        cv.norm(grid_edges[3][0], grid_edges[0][0])  # bottom left vs top left\n",
    "    ]\n",
    ")\n",
    "print(longest_side)"
   ]
  },
  {
   "cell_type": "code",
   "execution_count": null,
   "metadata": {},
   "outputs": [],
   "source": [
    "def rotate_image(image, angle):\n",
    "  image_center = tuple(np.array(image.shape[1::-1]) / 2)\n",
    "  rot_mat = cv.getRotationMatrix2D(image_center, angle, 1.0)\n",
    "  result = cv.warpAffine(image, rot_mat, image.shape[1::-1], flags=cv.INTER_LINEAR)\n",
    "  return result\n"
   ]
  },
  {
   "cell_type": "code",
   "execution_count": null,
   "metadata": {},
   "outputs": [],
   "source": [
    "plt.imshow(rotate_image(image, 90))"
   ]
  },
  {
   "cell_type": "code",
   "execution_count": null,
   "metadata": {},
   "outputs": [],
   "source": [
    "src = np.array([grid_edges[1][0], grid_edges[0][0], grid_edges[3][0], grid_edges[2][0]], dtype=np.float32) \n",
    "\n",
    "dst = np.array([[0, 0], [longest_side - 1, 0], [longest_side - 1, longest_side - 1], [0, longest_side - 1]], dtype=np.float32)\n",
    "tranformed_perspective = cv.getPerspectiveTransform(src, dst)\n",
    "testing = cv.warpPerspective(image.copy(), tranformed_perspective, (int(longest_side), int(longest_side)))\n",
    "angle = 90\n",
    "testing = rotate_image(testing, angle)\n",
    "plt.imshow(testing)"
   ]
  },
  {
   "cell_type": "code",
   "execution_count": null,
   "metadata": {},
   "outputs": [],
   "source": [
    "processed_image = cv.cvtColor(testing.copy(),cv.COLOR_BGR2GRAY)\n",
    "cv.bitwise_not(processed_image, processed_image)\n",
    "plt.imshow(processed_image)\n",
    "plt.figure()\n",
    "numbers = []\n",
    "for i in range(9):\n",
    "    for j in range(9):\n",
    "        width = int(processed_image.shape[0]/9)\n",
    "        height = int(processed_image.shape[1]/9)\n",
    "        numbers.append(processed_image[i*width:i*width + width,j*height:j*height + height])"
   ]
  },
  {
   "cell_type": "code",
   "execution_count": null,
   "metadata": {},
   "outputs": [],
   "source": [
    "# constants\n",
    "CHECKPOINT_PATH = \"./trained_model/cp.ckpt\"\n",
    "IMG_ROWS = IMG_COLS = 28\n",
    "EPOCHS_AMOUNT = 5\n",
    "CLASSES_AMOUNT = 10\n",
    "BATCH_SIZE = 200\n",
    "NUMBER_THREAD = 50\n",
    "\n",
    "def create_model():\n",
    "    model = Sequential()\n",
    "    model.add(Conv2D(32, kernel_size=(3, 3),\n",
    "                    activation='relu',\n",
    "                    input_shape=(IMG_ROWS, IMG_COLS, 1)))\n",
    "    model.add(Conv2D(64, (3, 3), activation='relu'))\n",
    "    model.add(MaxPooling2D(pool_size=(2, 2)))\n",
    "    model.add(Dropout(0.25))\n",
    "    model.add(Flatten())\n",
    "    model.add(Dense(128, activation='relu'))\n",
    "    model.add(Dropout(0.5))\n",
    "    model.add(Dense(CLASSES_AMOUNT, activation='softmax'))\n",
    "    model.compile(loss=\"categorical_crossentropy\", optimizer=\"adam\", metrics=[\"accuracy\"])\n",
    "    return model"
   ]
  },
  {
   "cell_type": "code",
   "execution_count": null,
   "metadata": {},
   "outputs": [],
   "source": [
    "f = open(CHECKPOINT_PATH, \"r\")\n",
    "print(f.read())"
   ]
  },
  {
   "cell_type": "code",
   "execution_count": null,
   "metadata": {},
   "outputs": [],
   "source": [
    "new_model = create_model()\n",
    "new_model.load_weights(\"./trained_model/cp.ckpt\")"
   ]
  },
  {
   "cell_type": "code",
   "execution_count": null,
   "metadata": {},
   "outputs": [],
   "source": [
    "def resize_contour(contour, coef_x, coef_y):\n",
    "    contour[:, :, 0] = contour[:, :, 0] * coef_x\n",
    "    contour[:, :, 1] = contour[:, :,  1] * coef_y\n",
    "    return contour\n",
    "    "
   ]
  },
  {
   "cell_type": "code",
   "execution_count": null,
   "metadata": {},
   "outputs": [],
   "source": [
    "def preprocess_image(image):\n",
    "    #_,image = cv.threshold(image,200,255,cv.THRESH_BINARY)\n",
    "    contours, _ = cv.findContours(image, cv.RETR_TREE, cv.CHAIN_APPROX_SIMPLE)\n",
    "    biggest_contour = sorted(contours, key=cv.contourArea, reverse=True)[0]\n",
    "    M = cv.moments(biggest_contour)\n",
    "    cx = int(M['m10']/M['m00'])\n",
    "    cy = int(M['m01']/M['m00'])\n",
    "    image = cv.drawContours(np.zeros((cy*2, cx*2)), contours, -1, (255,255,255))\n",
    "    image = cv.fillPoly(image,pts=contours,color=(255,255,255))\n",
    "    return cv.resize(image, (28,28))"
   ]
  },
  {
   "cell_type": "code",
   "execution_count": null,
   "metadata": {},
   "outputs": [],
   "source": [
    "predicted_number = 0\n",
    "UP = 0.85\n",
    "DOWN = 0.15\n",
    "for num in numbers:\n",
    "    num = cv.resize(num[int(num.shape[0]*0.15):int(num.shape[0]),int(num.shape[1]*0.2):int(num.shape[1])], (60,60))\n",
    "    _,num = cv.threshold(num,150,255,cv.THRESH_BINARY)\n",
    "    \n",
    "    if cv.countNonZero(num) > 75:\n",
    "\n",
    "        contours, _ = cv.findContours(num, cv.RETR_TREE, cv.CHAIN_APPROX_SIMPLE)\n",
    "        M = cv.moments(sorted(contours, key=cv.contourArea, reverse=True)[0])\n",
    "        cx = int(M['m10']/M['m00'])\n",
    "        cy = int(M['m01']/M['m00'])\n",
    "        \n",
    "        num = cv.drawContours(np.zeros((cy*2, cx*2)), contours, -1, (255,255,255))\n",
    "        num = cv.fillPoly(num,pts=contours, color=(255,255,255))\n",
    "        num = cv.resize(num, (28,28))\n",
    "        num = cv.erode(num, (3,3))\n",
    "\n",
    "        prediction = sorted(enumerate(new_model.predict(num.reshape(1, IMG_ROWS, IMG_COLS, 1))[0]), key=operator.itemgetter(1), reverse=True)[0]\n",
    "        plt.title(f\"Predicted: {prediction[0]}\\nCertainty: {prediction[1]*100}\\n\")\n",
    "        plt.imshow(num)\n",
    "        plt.figure()\n",
    "\n",
    "    "
   ]
  },
  {
   "cell_type": "code",
   "execution_count": null,
   "metadata": {
    "tags": []
   },
   "outputs": [],
   "source": [
    "predicted_number = 0\n",
    "UP = 0.85\n",
    "DOWN = 0.15\n",
    "for num in numbers[:5]:\n",
    "    num = cv.resize(num[int(num.shape[0]*DOWN):int(num.shape[0]*UP),int(num.shape[1]*DOWN):int(num.shape[1]*UP)], (28,28))\n",
    "    #cv.bitwise_not(num, num)\n",
    "    _,num = cv.threshold(num,200,255,cv.THRESH_BINARY)\n",
    "    \n",
    "    if cv.countNonZero(num) > 50:\n",
    "        num = preprocess_image(num)\n",
    "        prediction = sorted(enumerate(new_model.predict(num.reshape(1, IMG_ROWS, IMG_COLS, 1))[0]), key=operator.itemgetter(1), reverse=True)[0]\n",
    "        #predicted_number = new_model.predict(num.reshape(1, IMG_ROWS, IMG_COLS, 1)).argmax()\n",
    "        plt.title(f\"Predicted: {prediction[0]}\\nCertainty: {prediction[1]*100}\\n\")\n",
    "        #print(f\"Center of number: {cx}, {cy}\\nCenter of an image: {num.shape[0]/2}, {num.shape[1]/2}\")\n",
    "\n",
    "        plt.imshow(num)\n",
    "        plt.figure()\n",
    "    "
   ]
  }
 ],
 "metadata": {
  "interpreter": {
   "hash": "b28e3fb1f5df41a76302ba89784f5eede344a036d768b47b82471c93d29db6fc"
  },
  "kernelspec": {
   "display_name": "Python 3.7.3 64-bit ('venv': venv)",
   "language": "python",
   "name": "python3"
  },
  "language_info": {
   "codemirror_mode": {
    "name": "ipython",
    "version": 3
   },
   "file_extension": ".py",
   "mimetype": "text/x-python",
   "name": "python",
   "nbconvert_exporter": "python",
   "pygments_lexer": "ipython3",
   "version": "3.9.10"
  },
  "orig_nbformat": 2
 },
 "nbformat": 4,
 "nbformat_minor": 2
}
